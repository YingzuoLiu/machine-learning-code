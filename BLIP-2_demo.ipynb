{
 "cells": [
  {
   "cell_type": "markdown",
   "id": "e4042b7d",
   "metadata": {},
   "source": [
    "1. 图像 → 自然语言描述（Captioning）"
   ]
  },
  {
   "cell_type": "code",
   "execution_count": null,
   "id": "c4d038a3",
   "metadata": {},
   "outputs": [],
   "source": [
    "from transformers import Blip2Processor, Blip2ForConditionalGeneration\n",
    "from PIL import Image\n",
    "import torch\n",
    "\n",
    "# 1. 加载模型与处理器\n",
    "processor = Blip2Processor.from_pretrained(\"Salesforce/blip2-opt-2.7b\")\n",
    "model = Blip2ForConditionalGeneration.from_pretrained(\"Salesforce/blip2-opt-2.7b\", torch_dtype=torch.float16).to(\"cuda\")\n",
    "\n",
    "# 2. 读取图像\n",
    "image = Image.open(\"your_image.jpg\").convert(\"RGB\")  # 替换为你的图像路径\n",
    "\n",
    "# 3. 图像描述输入，无需 text prompt\n",
    "inputs = processor(images=image, return_tensors=\"pt\").to(\"cuda\", torch.float16)\n",
    "\n",
    "# 4. 生成图像描述\n",
    "generated_ids = model.generate(**inputs, max_new_tokens=30)\n",
    "caption = processor.batch_decode(generated_ids, skip_special_tokens=True)[0]\n",
    "\n",
    "print(caption)\n"
   ]
  },
  {
   "cell_type": "markdown",
   "id": "159e7670",
   "metadata": {},
   "source": [
    "✅ 效果示例：\n",
    "\n",
    "输入：一张狗躺在沙发上的图片\n",
    "\n",
    "输出：a dog is laying on a couch"
   ]
  },
  {
   "cell_type": "markdown",
   "id": "2c3bafca",
   "metadata": {},
   "source": [
    "2. 图文对话（Chat with Image）"
   ]
  },
  {
   "cell_type": "code",
   "execution_count": null,
   "id": "bc68741e",
   "metadata": {},
   "outputs": [],
   "source": [
    "from transformers import Blip2Processor, Blip2ForConditionalGeneration\n",
    "from PIL import Image\n",
    "import torch\n",
    "\n",
    "# 加载模型（同上）\n",
    "processor = Blip2Processor.from_pretrained(\"Salesforce/blip2-opt-2.7b\")\n",
    "model = Blip2ForConditionalGeneration.from_pretrained(\"Salesforce/blip2-opt-2.7b\", torch_dtype=torch.float16).to(\"cuda\")\n",
    "\n",
    "# 加载图像\n",
    "image = Image.open(\"your_image.jpg\").convert(\"RGB\") # 替换为你的图像路径\n",
    "\n",
    "# 用户给定提示语\n",
    "prompt = \"What is the man doing in the image?\"\n",
    "\n",
    "# 编码图像 + 文本\n",
    "inputs = processor(images=image, text=prompt, return_tensors=\"pt\").to(\"cuda\", torch.float16)\n",
    "\n",
    "# 生成回复\n",
    "generated_ids = model.generate(**inputs, max_new_tokens=50)\n",
    "response = processor.batch_decode(generated_ids, skip_special_tokens=True)[0]\n",
    "\n",
    "print(response)\n"
   ]
  },
  {
   "cell_type": "markdown",
   "id": "d18a8d3c",
   "metadata": {},
   "source": [
    "✅ 效果示例：\n",
    "\n",
    "图像：一位男子在厨房里做饭\n",
    "\n",
    "Prompt：What is the man doing in the image?\n",
    "\n",
    "输出：The man is cooking food in the kitchen"
   ]
  }
 ],
 "metadata": {
  "kernelspec": {
   "display_name": "base",
   "language": "python",
   "name": "python3"
  },
  "language_info": {
   "codemirror_mode": {
    "name": "ipython",
    "version": 3
   },
   "file_extension": ".py",
   "mimetype": "text/x-python",
   "name": "python",
   "nbconvert_exporter": "python",
   "pygments_lexer": "ipython3",
   "version": "3.12.7"
  }
 },
 "nbformat": 4,
 "nbformat_minor": 5
}
