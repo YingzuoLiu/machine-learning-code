{
 "cells": [
  {
   "cell_type": "markdown",
   "id": "07c60137",
   "metadata": {},
   "source": [
    "demo1"
   ]
  },
  {
   "cell_type": "markdown",
   "id": "91d80e2c",
   "metadata": {},
   "source": [
    "训练目标用对比学习（MNR）用相似度来刻画用户-物品的匹配程度，推动模型把正例拉近、负例推远。"
   ]
  },
  {
   "cell_type": "code",
   "execution_count": 1,
   "id": "f321d738",
   "metadata": {},
   "outputs": [],
   "source": [
    "import numpy as np\n",
    "\n",
    "def mnr_loss(anchor: np.ndarray, positive: np.ndarray, negatives: np.ndarray) -> float:\n",
    "    \"\"\"\n",
    "    计算 MNR Loss（Multiple Negative Ranking Loss）\n",
    "\n",
    "    参数:\n",
    "        anchor: [d,] 用户或查询向量\n",
    "        positive: [d,] 正样本向量（如用户点击的商品）\n",
    "        negatives: [N, d] N 个负样本向量（未点击的商品）\n",
    "\n",
    "    返回:\n",
    "        loss: float, MNR 损失值\n",
    "    \"\"\"\n",
    "\n",
    "    # 1. 拼接所有样本 [positive; negatives] → shape: [1+N, d]\n",
    "    all_items = np.vstack([positive[np.newaxis, :], negatives])  # shape: (1+N, d)\n",
    "\n",
    "    # 2. 计算 anchor 和每个 item 的点积相似度 → shape: (1+N,)\n",
    "    logits = np.dot(all_items, anchor)  # dot(anchor, item_i)\n",
    "\n",
    "    # 3. softmax over logits\n",
    "    exp_logits = np.exp(logits - np.max(logits))  # 防止数值爆炸\n",
    "    probs = exp_logits / np.sum(exp_logits)\n",
    "\n",
    "    # 4. 负对数正样本的概率\n",
    "    loss = -np.log(probs[0])\n",
    "\n",
    "    return loss\n"
   ]
  },
  {
   "cell_type": "code",
   "execution_count": 2,
   "id": "099a60a7",
   "metadata": {},
   "outputs": [
    {
     "name": "stdout",
     "output_type": "stream",
     "text": [
      "MNR Loss = 1.6965\n"
     ]
    }
   ],
   "source": [
    "# 设置维度\n",
    "d = 4\n",
    "N = 3  # 3 个负样本\n",
    "\n",
    "np.random.seed(42)\n",
    "\n",
    "anchor = np.random.rand(d)\n",
    "positive = np.random.rand(d)\n",
    "negatives = np.random.rand(N, d)\n",
    "\n",
    "loss = mnr_loss(anchor, positive, negatives)\n",
    "print(f\"MNR Loss = {loss:.4f}\")\n"
   ]
  },
  {
   "cell_type": "markdown",
   "id": "692cec08",
   "metadata": {},
   "source": [
    "🎯 推荐系统中的典型应用：\n",
    "带日志点击/交互信息的推荐系统 → 监督 MNR\n",
    "\n",
    "用户点击过的是正样本，未点击的是负样本（或负采样）\n",
    "\n",
    "冷启动/行为稀疏场景，用文本/图像等进行 MNR 表征学习 → 无监督或自监督 MNR\n",
    "\n",
    "用文案生成增强视图，对比多个表示"
   ]
  },
  {
   "cell_type": "markdown",
   "id": "886004f2",
   "metadata": {},
   "source": [
    "demo2"
   ]
  },
  {
   "cell_type": "markdown",
   "id": "7b18160d",
   "metadata": {},
   "source": [
    "目标：\n",
    "让用户向量和不感兴趣的 item 向量 保持“远距离”，从而避免推荐这些内容。"
   ]
  },
  {
   "cell_type": "code",
   "execution_count": 3,
   "id": "2eea906e",
   "metadata": {},
   "outputs": [],
   "source": [
    "import torch\n",
    "import torch.nn.functional as F\n",
    "\n",
    "def repel_loss(user_embedding, neg_item_embeddings, margin=0.3):\n",
    "    \"\"\"\n",
    "    user_embedding: [batch_size, hidden_dim]\n",
    "    neg_item_embeddings: [batch_size, neg_num, hidden_dim]\n",
    "    \"\"\"\n",
    "    # [B, 1, D] vs [B, N, D] → cosine similarity → [B, N]\n",
    "    user = F.normalize(user_embedding, dim=-1).unsqueeze(1)         # [B, 1, D]\n",
    "    neg_items = F.normalize(neg_item_embeddings, dim=-1)            # [B, N, D]\n",
    "    \n",
    "    sim_scores = torch.bmm(user, neg_items.transpose(1, 2)).squeeze(1)  # [B, N]\n",
    "\n",
    "    # 惩罚越相似的内容 → 相似度越大 loss 越大\n",
    "    loss = torch.clamp(sim_scores - margin, min=0).mean()\n",
    "    \n",
    "    return loss\n"
   ]
  },
  {
   "cell_type": "code",
   "execution_count": 4,
   "id": "e57561d0",
   "metadata": {},
   "outputs": [
    {
     "name": "stdout",
     "output_type": "stream",
     "text": [
      "Repel Loss: 0.19077010452747345\n"
     ]
    }
   ],
   "source": [
    "# 假设 batch_size=2, neg_num=3, hidden_dim=4\n",
    "user_embedding = torch.randn(2, 4)\n",
    "neg_item_embeddings = torch.randn(2, 3, 4)\n",
    "\n",
    "loss = repel_loss(user_embedding, neg_item_embeddings)\n",
    "print(\"Repel Loss:\", loss.item())\n"
   ]
  },
  {
   "cell_type": "markdown",
   "id": "41c539aa",
   "metadata": {},
   "source": [
    "NumPy 版 InfoNCE "
   ]
  },
  {
   "cell_type": "code",
   "execution_count": null,
   "id": "bf519f94",
   "metadata": {},
   "outputs": [],
   "source": [
    "import numpy as np\n",
    "import matplotlib.pyplot as plt\n",
    "import seaborn as sns\n",
    "import pandas as pd\n",
    "from sklearn.preprocessing import normalize\n",
    "import ace_tools as tools\n",
    "\n",
    "# 1. 生成模拟用户点击序列 embedding（例如通过 RNN、Transformer 编码后的结果）\n",
    "np.random.seed(0)\n",
    "batch_size = 6\n",
    "embedding_dim = 8\n",
    "\n",
    "# 原始视图\n",
    "z1 = np.random.randn(batch_size, embedding_dim)\n",
    "# 增强视图（模拟数据增强后的结果，如序列裁剪、mask）\n",
    "z2 = z1 + 0.1 * np.random.randn(batch_size, embedding_dim)  # 添加轻微扰动\n",
    "\n",
    "# 归一化向量\n",
    "z1_normalized = normalize(z1)\n",
    "z2_normalized = normalize(z2)\n",
    "\n",
    "# 2. 计算余弦相似度矩阵\n",
    "sim_matrix = np.dot(z1_normalized, z2_normalized.T)  # shape: [batch, batch]\n",
    "\n",
    "# 3. InfoNCE Loss 计算\n",
    "temperature = 0.1\n",
    "exp_sim = np.exp(sim_matrix / temperature)\n",
    "probs = exp_sim / np.sum(exp_sim, axis=1, keepdims=True)\n",
    "positive_probs = np.diag(probs)\n",
    "info_nce_loss = -np.log(positive_probs).mean()\n",
    "\n",
    "# 4. 可视化相似度矩阵\n",
    "sim_df = pd.DataFrame(sim_matrix, columns=[f'z2_{i}' for i in range(batch_size)],\n",
    "                      index=[f'z1_{i}' for i in range(batch_size)])\n",
    "\n",
    "plt.figure(figsize=(8, 6))\n",
    "sns.heatmap(sim_df, annot=True, fmt=\".2f\", cmap=\"coolwarm\", cbar=True)\n",
    "plt.title(\"Cosine Similarity between z1 and z2 (Augmented Views)\")\n",
    "plt.tight_layout()\n",
    "plt.show()\n",
    "\n",
    "# 输出 loss 和相似度矩阵\n",
    "tools.display_dataframe_to_user(\"Cosine Similarity Matrix\", sim_df)\n",
    "info_nce_loss\n"
   ]
  }
 ],
 "metadata": {
  "kernelspec": {
   "display_name": "base",
   "language": "python",
   "name": "python3"
  },
  "language_info": {
   "codemirror_mode": {
    "name": "ipython",
    "version": 3
   },
   "file_extension": ".py",
   "mimetype": "text/x-python",
   "name": "python",
   "nbconvert_exporter": "python",
   "pygments_lexer": "ipython3",
   "version": "3.12.7"
  }
 },
 "nbformat": 4,
 "nbformat_minor": 5
}
