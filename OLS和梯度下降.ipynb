{
 "cells": [
  {
   "cell_type": "code",
   "execution_count": 1,
   "id": "127572bf",
   "metadata": {},
   "outputs": [
    {
     "name": "stdout",
     "output_type": "stream",
     "text": [
      "封闭解结果: [5.21509616 2.77011339]\n"
     ]
    }
   ],
   "source": [
    "import numpy as np\n",
    "import matplotlib.pyplot as plt\n",
    "\n",
    "# 生成数据\n",
    "np.random.seed(42)\n",
    "X = 2 * np.random.rand(100, 1)\n",
    "Y = 3 * X + 5 + np.random.randn(100, 1)\n",
    "\n",
    "# 加一列 1（偏置项）\n",
    "X_b = np.c_[np.ones((100, 1)), X]  # (100, 2)\n",
    "\n",
    "# 封闭解\n",
    "theta_closed = np.linalg.inv(X_b.T @ X_b) @ X_b.T @ Y\n",
    "\n",
    "print(\"封闭解结果:\", theta_closed.ravel())\n"
   ]
  },
  {
   "cell_type": "code",
   "execution_count": 2,
   "id": "b4f5fe1f",
   "metadata": {},
   "outputs": [
    {
     "name": "stdout",
     "output_type": "stream",
     "text": [
      "梯度下降结果: [5.21509616 2.77011339]\n"
     ]
    }
   ],
   "source": [
    "# 超参数\n",
    "eta = 0.1     # 学习率\n",
    "n_iterations = 1000\n",
    "m = 100       # 样本数\n",
    "\n",
    "# 初始化\n",
    "theta = np.random.randn(2, 1)\n",
    "\n",
    "for iteration in range(n_iterations):\n",
    "    gradients = 2/m * X_b.T @ (X_b @ theta - Y)\n",
    "    theta = theta - eta * gradients\n",
    "\n",
    "print(\"梯度下降结果:\", theta.ravel())\n"
   ]
  }
 ],
 "metadata": {
  "kernelspec": {
   "display_name": "base",
   "language": "python",
   "name": "python3"
  },
  "language_info": {
   "codemirror_mode": {
    "name": "ipython",
    "version": 3
   },
   "file_extension": ".py",
   "mimetype": "text/x-python",
   "name": "python",
   "nbconvert_exporter": "python",
   "pygments_lexer": "ipython3",
   "version": "3.12.7"
  }
 },
 "nbformat": 4,
 "nbformat_minor": 5
}
