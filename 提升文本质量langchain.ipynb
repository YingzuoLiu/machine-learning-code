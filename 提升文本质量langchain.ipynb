{
 "cells": [
  {
   "cell_type": "markdown",
   "id": "d07052c3",
   "metadata": {},
   "source": [
    "构建一个 RAG 问答链"
   ]
  },
  {
   "cell_type": "code",
   "execution_count": null,
   "id": "a3e502fc",
   "metadata": {},
   "outputs": [],
   "source": [
    "from langchain.chains import RetrievalQA\n",
    "from langchain.vectorstores import FAISS\n",
    "from langchain.embeddings import OpenAIEmbeddings\n",
    "from langchain.chat_models import ChatOpenAI\n",
    "\n",
    "# 向量检索器\n",
    "db = FAISS.load_local(\"your_index\", OpenAIEmbeddings())\n",
    "\n",
    "# 构建 LLM 问答链（RAG）\n",
    "qa_chain = RetrievalQA.from_chain_type(\n",
    "    llm=ChatOpenAI(),\n",
    "    retriever=db.as_retriever(),\n",
    "    chain_type=\"stuff\"\n",
    ")\n",
    "\n",
    "response = qa_chain.run(\"What is LangChain?\")\n",
    "print(response)\n"
   ]
  },
  {
   "cell_type": "markdown",
   "id": "0ac0e9a0",
   "metadata": {},
   "source": [
    "LangChain Agent"
   ]
  },
  {
   "cell_type": "code",
   "execution_count": null,
   "id": "d8a7ff0a",
   "metadata": {},
   "outputs": [],
   "source": [
    "from langchain.agents import initialize_agent\n",
    "from langchain_community.tools import DuckDuckGoSearchRun\n",
    "from langchain.agents.agent_types import AgentType\n",
    "from langchain.chat_models import ChatOpenAI\n",
    "\n",
    "llm = ChatOpenAI()\n",
    "\n",
    "search = DuckDuckGoSearchRun()\n",
    "\n",
    "agent = initialize_agent(\n",
    "    tools=[search],\n",
    "    llm=llm,\n",
    "    agent=AgentType.ZERO_SHOT_REACT_DESCRIPTION,\n",
    "    verbose=True\n",
    ")\n",
    "\n",
    "response = agent.run(\"Who is the CEO of OpenAI?\")\n",
    "print(response)\n"
   ]
  },
  {
   "cell_type": "markdown",
   "id": "f1a63872",
   "metadata": {},
   "source": [
    "使用 LangChain 构建带记忆的 Agent"
   ]
  },
  {
   "cell_type": "code",
   "execution_count": null,
   "id": "f7c89ae4",
   "metadata": {},
   "outputs": [],
   "source": [
    "from langchain.chat_models import ChatOpenAI\n",
    "from langchain.chains import ConversationChain\n",
    "from langchain.memory import ConversationBufferMemory, ConversationSummaryMemory\n",
    "from langchain.memory import CombinedMemory\n",
    "\n",
    "# 初始化 LLM\n",
    "llm = ChatOpenAI(temperature=0)\n",
    "\n",
    "# 构建对话记忆模块\n",
    "buffer_memory = ConversationBufferMemory(memory_key=\"chat_history\", return_messages=True)\n",
    "summary_memory = ConversationSummaryMemory(llm=llm, memory_key=\"summary\")\n",
    "\n",
    "# 组合两种记忆\n",
    "combined_memory = CombinedMemory(memories=[summary_memory, buffer_memory])\n",
    "\n",
    "# 构建对话链\n",
    "conversation = ConversationChain(\n",
    "    llm=llm,\n",
    "    memory=combined_memory,\n",
    "    verbose=True\n",
    ")\n"
   ]
  },
  {
   "cell_type": "markdown",
   "id": "6d362956",
   "metadata": {},
   "source": [
    "ReAct（推理和行动） Agent "
   ]
  },
  {
   "cell_type": "code",
   "execution_count": null,
   "id": "52487674",
   "metadata": {},
   "outputs": [],
   "source": [
    "#定义搜索函数并封装成 Tool\n",
    "from langchain.tools import Tool\n",
    "from duckduckgo_search import DDGS  # 使用 DuckDuckGo 搜索（免费）\n",
    "\n",
    "# 自定义搜索函数\n",
    "def web_search(query: str) -> str:\n",
    "    with DDGS() as ddgs:\n",
    "        results = ddgs.text(query, max_results=3)\n",
    "        return \"\\n\".join([r[\"body\"] for r in results]) if results else \"No results found.\"\n",
    "\n",
    "# 封装为 Tool\n",
    "search_tool = Tool.from_function(\n",
    "    func=web_search,\n",
    "    name=\"Search\",\n",
    "    description=\"Useful for answering factual or current event questions from the web.\"\n",
    ")\n",
    "\n",
    "#构建 ReAct Agent\n",
    "from langchain.agents import initialize_agent\n",
    "from langchain.chat_models import ChatOpenAI\n",
    "\n",
    "llm = ChatOpenAI(temperature=0, model=\"gpt-4\")  # 可换成 gpt-3.5-turbo\n",
    "\n",
    "agent = initialize_agent(\n",
    "    tools=[search_tool],\n",
    "    llm=llm,\n",
    "    agent=\"zero-shot-react-description\",  # 使用 ReAct agent 模式\n",
    "    verbose=True\n",
    ")\n",
    "\n",
    "#运行一个问题测试\n",
    "response = agent.run(\"What is the ReAct framework in LLMs?\")\n",
    "print(response)\n"
   ]
  }
 ],
 "metadata": {
  "kernelspec": {
   "display_name": "base",
   "language": "python",
   "name": "python3"
  },
  "language_info": {
   "codemirror_mode": {
    "name": "ipython",
    "version": 3
   },
   "file_extension": ".py",
   "mimetype": "text/x-python",
   "name": "python",
   "nbconvert_exporter": "python",
   "pygments_lexer": "ipython3",
   "version": "3.12.7"
  }
 },
 "nbformat": 4,
 "nbformat_minor": 5
}
