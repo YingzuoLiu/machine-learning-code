{
 "cells": [
  {
   "cell_type": "markdown",
   "id": "99adae0e",
   "metadata": {},
   "source": [
    "数据预处理"
   ]
  },
  {
   "cell_type": "code",
   "execution_count": null,
   "id": "c205e96e",
   "metadata": {},
   "outputs": [],
   "source": [
    "import pandas as pd\n",
    "import numpy as np\n",
    "from sklearn.model_selection import train_test_split\n",
    "from sklearn.metrics import accuracy_score, f1_score\n",
    "import matplotlib.pyplot as plt\n",
    "\n",
    "# 加载 Titanic 数据\n",
    "url = \"https://raw.githubusercontent.com/datasciencedojo/datasets/master/titanic.csv\"\n",
    "data = pd.read_csv(url)\n",
    "\n",
    "# 简单预处理（选取特征）\n",
    "data = data[['Survived', 'Pclass', 'Sex', 'Age', 'Fare']]\n",
    "data.dropna(inplace=True)\n",
    "data['Sex'] = data['Sex'].map({'male': 0, 'female': 1})\n",
    "\n",
    "# 特征和标签\n",
    "X = data[['Pclass', 'Sex', 'Age', 'Fare']].values\n",
    "y = data['Survived'].values.reshape(-1, 1)\n",
    "\n",
    "# 标准化\n",
    "X = (X - X.mean(axis=0)) / X.std(axis=0)\n",
    "\n",
    "# 拆分训练/测试\n",
    "X_train, X_test, y_train, y_test = train_test_split(X, y, test_size=0.2, random_state=42)\n"
   ]
  },
  {
   "cell_type": "markdown",
   "id": "19c3bb9d",
   "metadata": {},
   "source": [
    "逻辑回归模型（含 Sigmoid、Loss、梯度下降）"
   ]
  },
  {
   "cell_type": "code",
   "execution_count": null,
   "id": "6359471f",
   "metadata": {},
   "outputs": [],
   "source": [
    "class LogisticRegressionCustom:\n",
    "    def __init__(self, lr=0.01, epochs=1000):\n",
    "        self.lr = lr\n",
    "        self.epochs = epochs\n",
    "        self.losses = []\n",
    "        self.weights = []\n",
    "    \n",
    "    def sigmoid(self, z):\n",
    "        return 1 / (1 + np.exp(-z))\n",
    "    \n",
    "    def compute_loss(self, y, y_hat):\n",
    "        m = y.shape[0]\n",
    "        return -np.mean(y * np.log(y_hat + 1e-8) + (1 - y) * np.log(1 - y_hat + 1e-8))\n",
    "    \n",
    "    def fit(self, X, y):\n",
    "        m, n = X.shape\n",
    "        self.theta = np.zeros((n, 1))\n",
    "        for epoch in range(self.epochs):\n",
    "            z = X @ self.theta\n",
    "            y_hat = self.sigmoid(z)\n",
    "            loss = self.compute_loss(y, y_hat)\n",
    "            self.losses.append(loss)\n",
    "            self.weights.append(self.theta.copy())\n",
    "            grad = X.T @ (y_hat - y) / m\n",
    "            self.theta -= self.lr * grad\n",
    "    \n",
    "    def predict(self, X):\n",
    "        return (self.sigmoid(X @ self.theta) >= 0.5).astype(int)\n"
   ]
  },
  {
   "cell_type": "markdown",
   "id": "e40264c1",
   "metadata": {},
   "source": [
    "训练模型、输出训练曲线 & 权重变化"
   ]
  },
  {
   "cell_type": "code",
   "execution_count": null,
   "id": "6897eea8",
   "metadata": {},
   "outputs": [],
   "source": [
    "model = LogisticRegressionCustom(lr=0.1, epochs=300)\n",
    "model.fit(X_train, y_train)\n",
    "\n",
    "# 画 Loss 曲线\n",
    "plt.plot(model.losses)\n",
    "plt.title(\"Training Loss Curve\")\n",
    "plt.xlabel(\"Epoch\")\n",
    "plt.ylabel(\"Binary Cross-Entropy Loss\")\n",
    "plt.grid()\n",
    "plt.show()\n",
    "\n",
    "# 打印前 5 个 epoch 的权重变化\n",
    "for i, w in enumerate(model.weights[:5]):\n",
    "    print(f\"Epoch {i+1}: {w.ravel()}\")\n"
   ]
  },
  {
   "cell_type": "markdown",
   "id": "a02415bb",
   "metadata": {},
   "source": [
    "模型评估"
   ]
  },
  {
   "cell_type": "code",
   "execution_count": null,
   "id": "22a0bc19",
   "metadata": {},
   "outputs": [],
   "source": [
    "y_pred = model.predict(X_test)\n",
    "\n",
    "acc = accuracy_score(y_test, y_pred)\n",
    "f1 = f1_score(y_test, y_pred)\n",
    "\n",
    "print(f\"Accuracy: {acc:.4f}\")\n",
    "print(f\"F1 Score: {f1:.4f}\")\n"
   ]
  }
 ],
 "metadata": {
  "language_info": {
   "name": "python"
  }
 },
 "nbformat": 4,
 "nbformat_minor": 5
}
