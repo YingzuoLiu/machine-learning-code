{
 "cells": [
  {
   "cell_type": "code",
   "execution_count": 1,
   "id": "e7ade82a",
   "metadata": {},
   "outputs": [],
   "source": [
    "import torch\n",
    "import torch.nn as nn\n",
    "import torch.nn.functional as F\n",
    "import pandas as pd\n",
    "import numpy as np\n",
    "from collections import defaultdict\n",
    "import random\n"
   ]
  },
  {
   "cell_type": "code",
   "execution_count": 2,
   "id": "52cba3f0",
   "metadata": {},
   "outputs": [],
   "source": [
    "# 构建简化树结构（2层）\n",
    "#         0\n",
    "#      /  |  \\\n",
    "#     1   2   3       ← 中间层\n",
    "#    / \\     / \\\n",
    "#   4  5    6  7      ← 叶子节点（物品）\n",
    "\n",
    "tree = {\n",
    "    0: [1, 2, 3],\n",
    "    1: [4, 5],\n",
    "    2: [],\n",
    "    3: [6, 7]\n",
    "}\n",
    "\n",
    "intermediate_nodes = [0, 1, 2, 3]\n",
    "leaf_nodes = [4, 5, 6, 7]\n",
    "all_nodes = intermediate_nodes + leaf_nodes\n"
   ]
  },
  {
   "cell_type": "code",
   "execution_count": 3,
   "id": "26533360",
   "metadata": {},
   "outputs": [],
   "source": [
    "# 模拟用户点击的叶子节点（用户兴趣）\n",
    "user_leaf_clicks = {\n",
    "    0: [4],\n",
    "    1: [6],\n",
    "    2: [5, 7]\n",
    "}\n",
    "num_users = len(user_leaf_clicks)\n"
   ]
  },
  {
   "cell_type": "code",
   "execution_count": 4,
   "id": "61144347",
   "metadata": {},
   "outputs": [
    {
     "name": "stdout",
     "output_type": "stream",
     "text": [
      "训练样本共 32 条\n"
     ]
    }
   ],
   "source": [
    "def get_positive_path(leaf_id):\n",
    "    path = []\n",
    "    for parent, children in tree.items():\n",
    "        if leaf_id in children:\n",
    "            path.append(parent)\n",
    "            break\n",
    "    path.append(leaf_id)\n",
    "    return [0] + path  # 包括根节点\n",
    "\n",
    "train_samples = []\n",
    "for uid, leaves in user_leaf_clicks.items():\n",
    "    for leaf in leaves:\n",
    "        pos_nodes = set(get_positive_path(leaf))\n",
    "        for nid in all_nodes:\n",
    "            label = 1 if nid in pos_nodes else 0\n",
    "            train_samples.append((uid, nid, label))\n",
    "\n",
    "print(f\"训练样本共 {len(train_samples)} 条\")\n"
   ]
  },
  {
   "cell_type": "code",
   "execution_count": 7,
   "id": "5aa82737",
   "metadata": {},
   "outputs": [],
   "source": [
    "class TDMModel(nn.Module):\n",
    "    def __init__(self, num_users, num_nodes, embed_dim=16):\n",
    "        super().__init__()\n",
    "        self.user_embedding = nn.Embedding(num_users, embed_dim)\n",
    "        self.node_embedding = nn.Embedding(num_nodes, embed_dim)\n",
    "        self.mlp = nn.Sequential(\n",
    "            nn.Linear(embed_dim * 2, 64),\n",
    "            nn.ReLU(),\n",
    "            nn.Linear(64, 1)\n",
    "        )\n",
    "\n",
    "    def forward(self, user_ids, node_ids):\n",
    "        u = self.user_embedding(user_ids)\n",
    "        n = self.node_embedding(node_ids)\n",
    "        x = torch.cat([u, n], dim=-1)\n",
    "        logits = self.mlp(x).view(-1)\n",
    "        return logits\n"
   ]
  },
  {
   "cell_type": "code",
   "execution_count": 8,
   "id": "fe7d9366",
   "metadata": {},
   "outputs": [
    {
     "name": "stdout",
     "output_type": "stream",
     "text": [
      "Epoch 0 Loss: 25.9402\n",
      "Epoch 10 Loss: 8.6024\n",
      "Epoch 20 Loss: 6.3062\n",
      "Epoch 30 Loss: 5.6880\n",
      "Epoch 40 Loss: 5.7285\n"
     ]
    }
   ],
   "source": [
    "model = TDMModel(num_users=num_users, num_nodes=len(all_nodes))\n",
    "optimizer = torch.optim.Adam(model.parameters(), lr=0.01)\n",
    "loss_fn = nn.BCEWithLogitsLoss()\n",
    "\n",
    "EPOCHS = 50\n",
    "for epoch in range(EPOCHS):\n",
    "    total_loss = 0\n",
    "    random.shuffle(train_samples)\n",
    "    for uid, nid, label in train_samples:\n",
    "        user_ids = torch.tensor([uid])\n",
    "        node_ids = torch.tensor([nid])\n",
    "        labels = torch.tensor([label], dtype=torch.float)\n",
    "\n",
    "        logits = model(user_ids, node_ids)\n",
    "        loss = loss_fn(logits, labels)\n",
    "\n",
    "        optimizer.zero_grad()\n",
    "        loss.backward()\n",
    "        optimizer.step()\n",
    "\n",
    "        total_loss += loss.item()\n",
    "    if epoch % 10 == 0:\n",
    "        print(f\"Epoch {epoch} Loss: {total_loss:.4f}\")\n"
   ]
  },
  {
   "cell_type": "code",
   "execution_count": 9,
   "id": "da91da87",
   "metadata": {},
   "outputs": [],
   "source": [
    "def infer_leaf(user_id):\n",
    "    current_node = 0  # start at root\n",
    "    while current_node not in leaf_nodes:\n",
    "        children = tree.get(current_node, [])\n",
    "        if not children:\n",
    "            break\n",
    "        scores = []\n",
    "        for child in children:\n",
    "            uid_tensor = torch.tensor([user_id])\n",
    "            nid_tensor = torch.tensor([child])\n",
    "            score = model(uid_tensor, nid_tensor).item()\n",
    "            scores.append((child, score))\n",
    "        scores.sort(key=lambda x: -x[1])\n",
    "        current_node = scores[0][0]  # greedy pick\n",
    "    return current_node\n"
   ]
  },
  {
   "cell_type": "code",
   "execution_count": 10,
   "id": "be5656c8",
   "metadata": {},
   "outputs": [
    {
     "name": "stdout",
     "output_type": "stream",
     "text": [
      "用户 0 推荐物品（叶子节点）: 4，真实点击: [4]\n",
      "用户 1 推荐物品（叶子节点）: 6，真实点击: [6]\n",
      "用户 2 推荐物品（叶子节点）: 7，真实点击: [5, 7]\n"
     ]
    }
   ],
   "source": [
    "for uid in range(num_users):\n",
    "    pred_leaf = infer_leaf(uid)\n",
    "    print(f\"用户 {uid} 推荐物品（叶子节点）: {pred_leaf}，真实点击: {user_leaf_clicks[uid]}\")\n"
   ]
  },
  {
   "cell_type": "code",
   "execution_count": 11,
   "id": "e1bf8db0",
   "metadata": {},
   "outputs": [],
   "source": [
    "def beam_search(user_id, beam_width=2, max_depth=2):\n",
    "    # 初始化 beam：每条路径是 (路径节点列表, 累积得分)\n",
    "    beam = [([0], 0.0)]  # 从根节点开始，得分为0\n",
    "\n",
    "    for _ in range(max_depth):\n",
    "        new_beam = []\n",
    "        for path, score in beam:\n",
    "            last_node = path[-1]\n",
    "            children = tree.get(last_node, [])\n",
    "            if not children:\n",
    "                new_beam.append((path, score))  # 无子节点直接保留\n",
    "                continue\n",
    "            for child in children:\n",
    "                uid_tensor = torch.tensor([user_id])\n",
    "                nid_tensor = torch.tensor([child])\n",
    "                pred_score = model(uid_tensor, nid_tensor).item()\n",
    "                new_path = path + [child]\n",
    "                new_beam.append((new_path, score + pred_score))\n",
    "        # 选出得分 Top-k 的路径\n",
    "        new_beam.sort(key=lambda x: -x[1])\n",
    "        beam = new_beam[:beam_width]\n",
    "    return beam\n"
   ]
  },
  {
   "cell_type": "code",
   "execution_count": 12,
   "id": "d381b25d",
   "metadata": {},
   "outputs": [
    {
     "name": "stdout",
     "output_type": "stream",
     "text": [
      "用户 0 推荐路径（Beam Search）：\n",
      "  路径: [0, 1, 4], 得分: 17.7655\n",
      "  路径: [0, 1, 5], 得分: 3.2470\n",
      "用户 1 推荐路径（Beam Search）：\n",
      "  路径: [0, 3, 6], 得分: 13.7116\n",
      "  路径: [0, 3, 7], 得分: -2.1960\n",
      "用户 2 推荐路径（Beam Search）：\n",
      "  路径: [0, 1, 5], 得分: 0.1235\n",
      "  路径: [0, 3, 7], 得分: 0.1188\n"
     ]
    }
   ],
   "source": [
    "for uid in range(num_users):\n",
    "    paths = beam_search(uid, beam_width=2, max_depth=2)\n",
    "    print(f\"用户 {uid} 推荐路径（Beam Search）：\")\n",
    "    for path, score in paths:\n",
    "        print(f\"  路径: {path}, 得分: {score:.4f}\")\n"
   ]
  },
  {
   "cell_type": "code",
   "execution_count": 17,
   "id": "50a5dcef",
   "metadata": {},
   "outputs": [
    {
     "data": {
      "image/png": "[encoded data removed]",
      "text/plain": [
       "<Figure size 800x600 with 1 Axes>"
      ]
     },
     "metadata": {},
     "output_type": "display_data"
    }
   ],
   "source": [
    "import networkx as nx\n",
    "import matplotlib.pyplot as plt\n",
    "plt.rcParams['font.family'] = 'SimHei'\n",
    "# 构造图\n",
    "G = nx.DiGraph()\n",
    "for parent, children in tree.items():\n",
    "    for child in children:\n",
    "        G.add_edge(parent, child)\n",
    "\n",
    "# 简化版布局（兼容性强）\n",
    "pos = nx.spring_layout(G, seed=42)\n",
    "\n",
    "plt.figure(figsize=(8, 6))\n",
    "nx.draw(G, pos, with_labels=True, arrows=True, node_color='skyblue', node_size=800, font_size=12)\n",
    "plt.title(\"TDM 树结构可视化\")\n",
    "plt.show()\n"
   ]
  }
 ],
 "metadata": {
  "kernelspec": {
   "display_name": "Python 3",
   "language": "python",
   "name": "python3"
  },
  "language_info": {
   "codemirror_mode": {
    "name": "ipython",
    "version": 3
   },
   "file_extension": ".py",
   "mimetype": "text/x-python",
   "name": "python",
   "nbconvert_exporter": "python",
   "pygments_lexer": "ipython3",
   "version": "3.13.5"
  }
 },
 "nbformat": 4,
 "nbformat_minor": 5
}
