{
 "cells": [
  {
   "cell_type": "markdown",
   "id": "0bc18c8d",
   "metadata": {},
   "source": [
    "# 基于路径的排序 Demo (while / if / for 实现)\n",
    "这个 Notebook 演示如何用 `while / if / for` 结构实现简单的路径搜索和基于路径的排序。"
   ]
  },
  {
   "cell_type": "code",
   "execution_count": 1,
   "id": "f51b9b87",
   "metadata": {},
   "outputs": [],
   "source": [
    "\n",
    "# 构建一个简单的图 (用户 -> 电影 -> 类别 -> 电影)\n",
    "graph = {\n",
    "    \"User\": [\"MovieA\", \"MovieB\"],\n",
    "    \"MovieA\": [\"Category1\"],\n",
    "    \"MovieB\": [\"Category1\", \"Category2\"],\n",
    "    \"Category1\": [\"MovieC\"],\n",
    "    \"Category2\": [\"MovieD\"],\n",
    "    \"MovieC\": [],\n",
    "    \"MovieD\": []\n",
    "}\n"
   ]
  },
  {
   "cell_type": "code",
   "execution_count": 2,
   "id": "75f348c9",
   "metadata": {},
   "outputs": [],
   "source": [
    "\n",
    "def score_path(path):\n",
    "    \"\"\"简单路径打分函数：路径越短分数越高\"\"\"\n",
    "    return 1 / len(path)\n"
   ]
  },
  {
   "cell_type": "code",
   "execution_count": 3,
   "id": "1b6b3de7",
   "metadata": {},
   "outputs": [],
   "source": [
    "\n",
    "def path_based_ranking(graph, start, target, max_depth):\n",
    "    paths = [[start]]              # 初始化路径集合\n",
    "    scored_paths = []              # 存储 (路径, 分数)\n",
    "    \n",
    "    while paths:                   # while 控制路径扩展\n",
    "        current_path = paths.pop(0)\n",
    "        last_node = current_path[-1]\n",
    "        \n",
    "        if len(current_path) > max_depth:   # if 判断深度\n",
    "            continue\n",
    "        \n",
    "        if last_node == target:             # if 判断是否到目标\n",
    "            score = score_path(current_path) # 计算路径分数\n",
    "            scored_paths.append((current_path, score))\n",
    "        \n",
    "        # for 遍历邻居，扩展路径\n",
    "        for neighbor in graph[last_node]:\n",
    "            if neighbor not in current_path:  # 避免环\n",
    "                new_path = current_path + [neighbor]\n",
    "                paths.append(new_path)\n",
    "    \n",
    "    # 排序\n",
    "    scored_paths.sort(key=lambda x: x[1], reverse=True)\n",
    "    return scored_paths\n"
   ]
  },
  {
   "cell_type": "code",
   "execution_count": 4,
   "id": "5313e51b",
   "metadata": {},
   "outputs": [
    {
     "data": {
      "text/plain": [
       "[(['User', 'MovieA', 'Category1', 'MovieC'], 0.25),\n",
       " (['User', 'MovieB', 'Category1', 'MovieC'], 0.25)]"
      ]
     },
     "execution_count": 4,
     "metadata": {},
     "output_type": "execute_result"
    }
   ],
   "source": [
    "\n",
    "# 从 User 到 MovieC 的所有路径，并排序\n",
    "results = path_based_ranking(graph, \"User\", \"MovieC\", max_depth=4)\n",
    "results\n"
   ]
  }
 ],
 "metadata": {
  "kernelspec": {
   "display_name": "Python 3",
   "language": "python",
   "name": "python3"
  },
  "language_info": {
   "codemirror_mode": {
    "name": "ipython",
    "version": 3
   },
   "file_extension": ".py",
   "mimetype": "text/x-python",
   "name": "python",
   "nbconvert_exporter": "python",
   "pygments_lexer": "ipython3",
   "version": "3.13.7"
  }
 },
 "nbformat": 4,
 "nbformat_minor": 5
}
