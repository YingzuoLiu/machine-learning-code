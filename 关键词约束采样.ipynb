{
 "cells": [
  {
   "cell_type": "code",
   "execution_count": 14,
   "id": "17d86069",
   "metadata": {},
   "outputs": [
    {
     "name": "stdout",
     "output_type": "stream",
     "text": [
      "\n",
      "Generated JSON:\n",
      " \n",
      "Write a JSON object describing a topic in AI.\n",
      "\n",
      "{\n",
      "  \"topic\": \"Artificial Intelligence\",\n",
      "  \"keywords\": [\"deep learning\", \"neural networks\"],\n",
      "  \"description\":\n",
      "\n",
      "\"Deep learning is a new field of research that uses machine learning algorithms to solve complex problems.\"\n",
      "\n",
      "}\n",
      "\n",
      "Write an AI object describing the topic in the context of the current topic. The object should be a list of topics, and should have the following properties:\n",
      "\n",
      "Name: The name of the topic\n",
      "\n",
      "Subject: The subject of the object\n",
      "\n",
      "Description: The description of the subject\n",
      "\n",
      "Keywords: The keywords used to describe the topic (e.g.\n"
     ]
    }
   ],
   "source": [
    "from transformers import AutoTokenizer, AutoModelForCausalLM\n",
    "import torch\n",
    "\n",
    "# 加载模型\n",
    "model_name = \"gpt2\"\n",
    "tokenizer = AutoTokenizer.from_pretrained(model_name)\n",
    "model = AutoModelForCausalLM.from_pretrained(model_name).to(\"cuda\")\n",
    "\n",
    "# 设置 pad_token\n",
    "tokenizer.pad_token = tokenizer.eos_token\n",
    "model.config.pad_token_id = tokenizer.pad_token_id\n",
    "\n",
    "# 关键词\n",
    "force_words = [\"deep learning\", \"neural networks\"]\n",
    "force_words_ids = [tokenizer.encode(w, add_special_tokens=False) for w in force_words]\n",
    "\n",
    "# 构造 JSON prompt\n",
    "prompt = \"\"\"\n",
    "Write a JSON object describing a topic in AI.\n",
    "\n",
    "{\n",
    "  \"topic\": \"Artificial Intelligence\",\n",
    "  \"keywords\": [\"deep learning\", \"neural networks\"],\n",
    "  \"description\":\n",
    "\"\"\"\n",
    "\n",
    "# 编码输入\n",
    "inputs = tokenizer(prompt, return_tensors=\"pt\").to(model.device)\n",
    "\n",
    "# 生成\n",
    "output_ids = model.generate(\n",
    "    input_ids=inputs[\"input_ids\"],\n",
    "    attention_mask=inputs[\"attention_mask\"],\n",
    "    max_new_tokens=100,\n",
    "    num_beams=5,\n",
    "    do_sample=False,\n",
    "    force_words_ids=force_words_ids,\n",
    "    pad_token_id=tokenizer.pad_token_id,\n",
    "    eos_token_id=tokenizer.eos_token_id,\n",
    "    no_repeat_ngram_size=3,\n",
    "    repetition_penalty=1.1\n",
    ")\n",
    "\n",
    "# 解码输出\n",
    "output_text = tokenizer.decode(output_ids[0], skip_special_tokens=True)\n",
    "\n",
    "# 打印结果\n",
    "print(\"\\nGenerated JSON:\\n\", output_text)\n"
   ]
  }
 ],
 "metadata": {
  "kernelspec": {
   "display_name": "base",
   "language": "python",
   "name": "python3"
  },
  "language_info": {
   "codemirror_mode": {
    "name": "ipython",
    "version": 3
   },
   "file_extension": ".py",
   "mimetype": "text/x-python",
   "name": "python",
   "nbconvert_exporter": "python",
   "pygments_lexer": "ipython3",
   "version": "3.12.7"
  }
 },
 "nbformat": 4,
 "nbformat_minor": 5
}
