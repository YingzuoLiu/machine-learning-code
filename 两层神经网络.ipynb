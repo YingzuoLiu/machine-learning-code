{
 "cells": [
  {
   "cell_type": "markdown",
   "id": "915c02d5",
   "metadata": {},
   "source": [
    "向前"
   ]
  },
  {
   "cell_type": "code",
   "execution_count": null,
   "id": "8b87367a",
   "metadata": {},
   "outputs": [],
   "source": [
    "import torch\n",
    "import torch.nn as nn\n",
    "\n",
    "# 定义一个2层的神经网络\n",
    "class TwoLayerNN(nn.Module):\n",
    "    def __init__(self, input_size, hidden_size, output_size):\n",
    "        super(TwoLayerNN, self).__init__()\n",
    "        \n",
    "        # 第一层：输入到隐藏层\n",
    "        self.layer1 = nn.Linear(input_size, hidden_size)\n",
    "        # 第二层：隐藏层到输出层\n",
    "        self.layer2 = nn.Linear(hidden_size, output_size)\n",
    "    \n",
    "    def forward(self, x):\n",
    "        x = self.layer1(x)          # 经过第一层\n",
    "        x = torch.relu(x)           # 激活函数 ReLU\n",
    "        x = self.layer2(x)          # 经过第二层\n",
    "        return x\n",
    "\n",
    "# 设定输入特征数、隐藏单元数、输出类别数\n",
    "input_size = 5\n",
    "hidden_size = 10\n",
    "output_size = 2\n",
    "\n",
    "# 创建模型实例\n",
    "model = TwoLayerNN(input_size, hidden_size, output_size)\n",
    "\n",
    "# 创建一个随机输入张量（batch_size=3，输入特征数=5）\n",
    "x = torch.rand((3, input_size))\n",
    "\n",
    "# 前向传播\n",
    "output = model(x)\n",
    "\n",
    "print(output)\n"
   ]
  },
  {
   "cell_type": "markdown",
   "id": "e5fa8995",
   "metadata": {},
   "source": [
    "向后"
   ]
  },
  {
   "cell_type": "code",
   "execution_count": null,
   "id": "1e3d0b0b",
   "metadata": {},
   "outputs": [],
   "source": [
    "import torch\n",
    "import torch.nn as nn\n",
    "import torch.optim as optim\n",
    "\n",
    "# 1. 定义两层神经网络\n",
    "class TwoLayerNN(nn.Module):\n",
    "    def __init__(self, input_size, hidden_size, output_size):\n",
    "        super(TwoLayerNN, self).__init__()\n",
    "        self.layer1 = nn.Linear(input_size, hidden_size)\n",
    "        self.layer2 = nn.Linear(hidden_size, output_size)\n",
    "    \n",
    "    def forward(self, x):\n",
    "        x = self.layer1(x)\n",
    "        x = torch.relu(x)\n",
    "        x = self.layer2(x)\n",
    "        return x\n",
    "\n",
    "# 2. 创建模型实例\n",
    "input_size = 5\n",
    "hidden_size = 10\n",
    "output_size = 2\n",
    "model = TwoLayerNN(input_size, hidden_size, output_size)\n",
    "\n",
    "# 3. 创建随机数据\n",
    "x = torch.rand((8, input_size))      # 输入：batch_size=8\n",
    "y = torch.randint(0, output_size, (8,))  # 标签：0或1，共8个\n",
    "\n",
    "# 4. 定义损失函数（这里用交叉熵 CrossEntropyLoss）\n",
    "criterion = nn.CrossEntropyLoss()\n",
    "\n",
    "# 5. 定义优化器（这里用SGD）\n",
    "optimizer = optim.SGD(model.parameters(), lr=0.1)\n",
    "\n",
    "# 6. 前向传播\n",
    "outputs = model(x)\n",
    "\n",
    "# 7. 计算损失\n",
    "loss = criterion(outputs, y)\n",
    "\n",
    "# 8. 反向传播（向后传播）\n",
    "optimizer.zero_grad()   # 清空上一步的梯度\n",
    "loss.backward()         # 反向传播，计算当前梯度\n",
    "optimizer.step()         # 更新参数\n",
    "\n",
    "print(f\"Loss after one backward step: {loss.item()}\")\n"
   ]
  },
  {
   "cell_type": "markdown",
   "id": "70f94dc9",
   "metadata": {},
   "source": [
    "forward → compute loss → zero_grad → backward → step → repeat！"
   ]
  },
  {
   "cell_type": "code",
   "execution_count": null,
   "id": "adcabe97",
   "metadata": {},
   "outputs": [],
   "source": [
    "num_epochs = 10 \n",
    "# 训练循环\n",
    "for epoch in range(num_epochs):\n",
    "    # (1) 前向传播\n",
    "    outputs = model(x)\n",
    "    \n",
    "    # (2) 计算损失\n",
    "    loss = criterion(outputs, y)\n",
    "    \n",
    "    # (3) 反向传播 + 优化\n",
    "    optimizer.zero_grad()  # 清空梯度\n",
    "    loss.backward()        # 反向传播\n",
    "    optimizer.step()       # 更新参数\n",
    "    \n",
    "    # (4) 打印每一轮的loss\n",
    "    print(f\"Epoch [{epoch+1}/{num_epochs}], Loss: {loss.item():.4f}\")"
   ]
  }
 ],
 "metadata": {
  "language_info": {
   "name": "python"
  }
 },
 "nbformat": 4,
 "nbformat_minor": 5
}
