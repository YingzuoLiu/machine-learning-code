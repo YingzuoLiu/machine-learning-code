{
 "cells": [
  {
   "cell_type": "markdown",
   "id": "fbed4730",
   "metadata": {},
   "source": [
    "# Text–Image Recommendation Demo (with Class-Balanced Loss)\n",
    "CLIP + Prompt Engineering vs Custom Dual-Tower + Sampling, with a toggleable Class-Balanced (CB) Loss.\n"
   ]
  },
  {
   "cell_type": "code",
   "execution_count": 12,
   "id": "d6c3a083",
   "metadata": {},
   "outputs": [
    {
     "data": {
      "text/plain": [
       "'cpu'"
      ]
     },
     "execution_count": 12,
     "metadata": {},
     "output_type": "execute_result"
    }
   ],
   "source": [
    "\n",
    "import os, random, numpy as np\n",
    "import torch, torch.nn as nn, torch.nn.functional as F\n",
    "import torchvision\n",
    "from torchvision import transforms\n",
    "from torch.utils.data import Dataset, DataLoader, Subset\n",
    "import matplotlib.pyplot as plt\n",
    "\n",
    "DEVICE = \"cuda\" if torch.cuda.is_available() else \"cpu\"\n",
    "DEVICE\n"
   ]
  },
  {
   "cell_type": "code",
   "execution_count": 13,
   "id": "48eda279",
   "metadata": {},
   "outputs": [],
   "source": [
    "\n",
    "def recall_at_k(sim, labels, K=10):\n",
    "    idx = np.argsort(-sim, axis=1)[:, :K]\n",
    "    hits = []\n",
    "    for q in range(sim.shape[0]):\n",
    "        hit = any(labels[q, j] for j in idx[q])\n",
    "        hits.append(hit)\n",
    "    return float(np.mean(hits))\n",
    "\n",
    "def ndcg_at_k(sim, labels, K=10):\n",
    "    idx = np.argsort(-sim, axis=1)[:, :K]\n",
    "    ndcgs = []\n",
    "    for q in range(sim.shape[0]):\n",
    "        gains = [1.0 if labels[q, j] else 0.0 for j in idx[q]]\n",
    "        dcg = sum(g/np.log2(i+2) for i, g in enumerate(gains))\n",
    "        ideal_gains = sorted(gains, reverse=True)\n",
    "        idcg = sum(g/np.log2(i+2) for i, g in enumerate(ideal_gains))\n",
    "        ndcgs.append(dcg/(idcg+1e-12))\n",
    "    return float(np.mean(ndcgs))\n"
   ]
  },
  {
   "cell_type": "code",
   "execution_count": 14,
   "id": "8e0120bf",
   "metadata": {},
   "outputs": [],
   "source": [
    "\n",
    "def load_cifar10_subset(split=\"test\", n_per_class=100, resize_to=224, normalize_for_clip=True):\n",
    "    if normalize_for_clip:\n",
    "        norm_mean, norm_std = (0.48145466, 0.4578275, 0.40821073), (0.26862954, 0.26130258, 0.27577711)\n",
    "    else:\n",
    "        norm_mean, norm_std = (0.5,0.5,0.5), (0.5,0.5,0.5)\n",
    "    tfm = transforms.Compose([\n",
    "        transforms.Resize(resize_to),\n",
    "        transforms.ToTensor(),\n",
    "        transforms.Normalize(norm_mean, norm_std),\n",
    "    ])\n",
    "    train_flag = (split==\"train\")\n",
    "    ds = torchvision.datasets.CIFAR10(root=\"./data\", train=train_flag, download=True, transform=tfm)\n",
    "    classes = ds.classes\n",
    "    indices, counts = [], {}\n",
    "    for i, (_, y) in enumerate(ds):\n",
    "        if counts.get(y, 0) < n_per_class:\n",
    "            indices.append(i)\n",
    "            counts[y] = counts.get(y, 0) + 1\n",
    "    return Subset(ds, indices), classes\n",
    "\n",
    "def make_long_tail_indices(ds_subset, classes, tail_strength=0.7, min_frac=0.1, seed=42):\n",
    "    rng = random.Random(seed)\n",
    "    targets = [ds_subset.dataset.targets[i] for i in ds_subset.indices]\n",
    "    by_cls = {}\n",
    "    for local_idx, y in enumerate(targets):\n",
    "        by_cls.setdefault(y, []).append(local_idx)\n",
    "    C = len(classes)\n",
    "    keep_fracs = [min_frac + (1-min_frac)*((1-tail_strength)**k) for k in range(C)]\n",
    "    m = max(keep_fracs)\n",
    "    keep_fracs = [f/m for f in keep_fracs]\n",
    "    order = list(range(C)); rng.shuffle(order)\n",
    "    cls_to_frac = {c: keep_fracs[k] for k,c in enumerate(order)}\n",
    "    kept = []\n",
    "    for c, idxs in by_cls.items():\n",
    "        frac = float(cls_to_frac[c])\n",
    "        take = max(1, int(len(idxs)*frac))\n",
    "        rng.shuffle(idxs)\n",
    "        kept.extend(idxs[:take])\n",
    "    kept.sort()\n",
    "    print(\"Approx keep fractions per class:\", cls_to_frac)\n",
    "    return kept\n",
    "\n",
    "def subset_by_local_indices(ds_subset, local_indices):\n",
    "    mapped = [ds_subset.indices[i] for i in local_indices]\n",
    "    return Subset(ds_subset.dataset, mapped)\n"
   ]
  },
  {
   "cell_type": "markdown",
   "id": "db74372d",
   "metadata": {},
   "source": [
    "## (A) CLIP + Prompt Engineering"
   ]
  },
  {
   "cell_type": "code",
   "execution_count": 15,
   "id": "fd5c2527",
   "metadata": {},
   "outputs": [],
   "source": [
    "\n",
    "try:\n",
    "    import clip\n",
    "    CLIP_AVAILABLE = True\n",
    "except Exception as e:\n",
    "    print(\"CLIP not available:\", e)\n",
    "    CLIP_AVAILABLE = False\n",
    "\n",
    "PROMPT_TEMPLATES = [\n",
    "    \"a photo of a {}.\",\n",
    "    \"a close-up photo of a {}.\",\n",
    "    \"a cropped photo of a {}.\",\n",
    "    \"a bright studio photo of a {}.\",\n",
    "    \"a clean product shot of a {}.\",\n",
    "]\n",
    "\n",
    "def build_text_embeddings_clip(model, classnames, templates, device):\n",
    "    with torch.no_grad():\n",
    "        all_embeds = []\n",
    "        for name in classnames:\n",
    "            texts = [t.format(name.replace(\"_\", \" \")) for t in templates]\n",
    "            tokens = clip.tokenize(texts).to(device)\n",
    "            feat = model.encode_text(tokens)\n",
    "            feat = feat / feat.norm(dim=-1, keepdim=True)\n",
    "            all_embeds.append(feat.mean(dim=0))\n",
    "        text_feats = torch.stack(all_embeds, dim=0)\n",
    "        text_feats = text_feats / text_feats.norm(dim=-1, keepdim=True)\n",
    "    return text_feats\n",
    "\n",
    "def encode_images_clip(model, loader, device):\n",
    "    feats, labels = [], []\n",
    "    with torch.no_grad():\n",
    "        for x, y in loader:\n",
    "            x = x.to(device)\n",
    "            f = model.encode_image(x)\n",
    "            f = f / f.norm(dim=-1, keepdim=True)\n",
    "            feats.append(f.cpu()); labels.append(y)\n",
    "    return torch.cat(feats), torch.cat(labels)\n",
    "\n",
    "def run_clip_pipeline(n_per_class=80, batch_size=64, use_templates=True, imbalance=False):\n",
    "    if not CLIP_AVAILABLE:\n",
    "        raise RuntimeError(\"CLIP not available.\")\n",
    "    model, _ = clip.load(\"ViT-B/32\", device=DEVICE)\n",
    "    ds_balanced, classnames = load_cifar10_subset(split=\"test\", n_per_class=n_per_class, resize_to=224, normalize_for_clip=True)\n",
    "    ds_used = ds_balanced\n",
    "    if imbalance:\n",
    "        kept_local = make_long_tail_indices(ds_balanced, classnames, tail_strength=0.7, min_frac=0.1, seed=123)\n",
    "        ds_used = subset_by_local_indices(ds_balanced, kept_local)\n",
    "    loader = DataLoader(ds_used, batch_size=batch_size, shuffle=False, num_workers=0)\n",
    "    templates = PROMPT_TEMPLATES if use_templates else [\"a photo of a {}.\"]\n",
    "    text_feats = build_text_embeddings_clip(model, classnames, templates, DEVICE)\n",
    "    img_feats, img_labels = encode_images_clip(model, loader, DEVICE)\n",
    "    sim = (text_feats @ img_feats.T).cpu().numpy()\n",
    "    labels = np.equal(np.arange(len(classnames))[:, None], img_labels[None, :].numpy())\n",
    "    return {\n",
    "        \"Recall@1\": recall_at_k(sim, labels, K=1),\n",
    "        \"Recall@10\": recall_at_k(sim, labels, K=10),\n",
    "        \"NDCG@10\": ndcg_at_k(sim, labels, K=10),\n",
    "    }\n"
   ]
  },
  {
   "cell_type": "markdown",
   "id": "155bb535",
   "metadata": {},
   "source": [
    "## (B) Custom Dual-Tower + Sampling (with toggleable Class-Balanced Loss)"
   ]
  },
  {
   "cell_type": "code",
   "execution_count": 16,
   "id": "5344ca86",
   "metadata": {},
   "outputs": [],
   "source": [
    "\n",
    "class TinyTextEncoder(nn.Module):\n",
    "    def __init__(self, num_classes, dim=256):\n",
    "        super().__init__()\n",
    "        self.embed = nn.Embedding(num_classes, dim)\n",
    "    def forward(self, labels):\n",
    "        x = self.embed(labels)\n",
    "        x = F.normalize(x, dim=-1)\n",
    "        return x\n",
    "\n",
    "def make_image_encoder(dim=256):\n",
    "    m = torchvision.models.resnet18(weights=None)\n",
    "    m.fc = nn.Linear(m.fc.in_features, dim)\n",
    "    return m\n",
    "\n",
    "class PairDataset(Dataset):\n",
    "    def __init__(self, base_subset, classes, hard_negative_prob=0.4, pop_alpha=0.2):\n",
    "        self.base = base_subset\n",
    "        self.targets = [base_subset.dataset.targets[i] for i in base_subset.indices]\n",
    "        self.classes = classes\n",
    "        self.by_cls = {}\n",
    "        for idx, y in enumerate(self.targets):\n",
    "            self.by_cls.setdefault(y, []).append(idx)\n",
    "        counts = np.array([len(self.by_cls.get(c, [])) for c in range(len(classes))], dtype=np.float32)\n",
    "        probs = counts / max(counts.sum(), 1.0)\n",
    "        self.pop_probs = probs**(1.0 - pop_alpha); self.pop_probs /= self.pop_probs.sum() + 1e-12\n",
    "        self.hard_negative_prob = hard_negative_prob\n",
    "\n",
    "    def __len__(self): return len(self.base)\n",
    "\n",
    "    def __getitem__(self, i):\n",
    "        img, y = self.base[i]\n",
    "        pos_label = y\n",
    "        if np.random.rand() < self.hard_negative_prob and len(self.by_cls[y]) > 1:\n",
    "            idxs = self.by_cls[y][:]\n",
    "            j = i\n",
    "            while j == i and len(idxs) > 1:\n",
    "                j = random.choice(idxs)\n",
    "            neg_img, _ = self.base[j]\n",
    "            neg_cls = y\n",
    "        else:\n",
    "            cand = list(range(len(self.classes))); cand.remove(y)\n",
    "            probs = self.pop_probs[cand]; probs = probs/(probs.sum()+1e-12)\n",
    "            neg_cls = int(np.random.choice(cand, p=probs))\n",
    "            j = random.choice(self.by_cls[neg_cls])\n",
    "            neg_img, _ = self.base[j]\n",
    "        return img, pos_label, neg_img, int(neg_cls)\n"
   ]
  },
  {
   "cell_type": "code",
   "execution_count": 17,
   "id": "f421574d",
   "metadata": {},
   "outputs": [],
   "source": [
    "\n",
    "def get_class_balanced_weights(class_counts, beta=0.99):\n",
    "    cc = torch.tensor(class_counts, dtype=torch.float32)\n",
    "    effective_num = 1.0 - torch.pow(torch.tensor(beta), cc)\n",
    "    weights = (1.0 - beta) / (effective_num + 1e-12)\n",
    "    weights = weights / (weights.sum() + 1e-12) * len(cc)\n",
    "    return weights\n"
   ]
  },
  {
   "cell_type": "code",
   "execution_count": 18,
   "id": "5945609d",
   "metadata": {},
   "outputs": [],
   "source": [
    "\n",
    "def contrastive_loss(img_z, txt_z, tau=0.07, class_weights=None, labels=None):\n",
    "    sim = (img_z @ txt_z.t()) / tau\n",
    "    idx = torch.arange(img_z.size(0), device=img_z.device)\n",
    "    if class_weights is None or labels is None:\n",
    "        loss_i2t = F.cross_entropy(sim, idx)\n",
    "        loss_t2i = F.cross_entropy(sim.t(), idx)\n",
    "    else:\n",
    "        logp_i2t = F.log_softmax(sim, dim=1)\n",
    "        loss_i = -logp_i2t[torch.arange(img_z.size(0)), idx]\n",
    "        w = class_weights[labels]\n",
    "        loss_i = (loss_i * w).mean()\n",
    "        logp_t2i = F.log_softmax(sim.t(), dim=1)\n",
    "        loss_t = -logp_t2i[torch.arange(img_z.size(0)), idx]\n",
    "        loss_t = (loss_t * w).mean()\n",
    "        loss_i2t, loss_t2i = loss_i, loss_t\n",
    "    return 0.5*(loss_i2t + loss_t2i)\n"
   ]
  },
  {
   "cell_type": "code",
   "execution_count": 19,
   "id": "e18fd16c",
   "metadata": {},
   "outputs": [],
   "source": [
    "\n",
    "def run_dualtower_with_imbalance(n_per_class=150, epochs=3, batch_size=128, dim=256, lr=1e-3,\n",
    "                                 tail_strength=0.7, min_frac=0.1, seed=123,\n",
    "                                 use_cb_loss=True, cb_beta=0.99):\n",
    "    train_balanced, classes = load_cifar10_subset(split=\"train\", n_per_class=n_per_class,\n",
    "                                                  resize_to=128, normalize_for_clip=False)\n",
    "    kept = make_long_tail_indices(train_balanced, classes, tail_strength=tail_strength,\n",
    "                                  min_frac=min_frac, seed=seed)\n",
    "    train_imbal = subset_by_local_indices(train_balanced, kept)\n",
    "    pairds = PairDataset(train_imbal, classes, hard_negative_prob=0.5, pop_alpha=0.2)\n",
    "    loader = DataLoader(pairds, batch_size=batch_size, shuffle=True, num_workers=0, drop_last=True)\n",
    "\n",
    "    img_enc = make_image_encoder(dim).to(DEVICE)\n",
    "    txt_enc = TinyTextEncoder(num_classes=len(classes), dim=dim).to(DEVICE)\n",
    "    opt = torch.optim.AdamW(list(img_enc.parameters()) + list(txt_enc.parameters()), lr=lr, weight_decay=1e-4)\n",
    "\n",
    "    class_counts = [len(pairds.by_cls.get(c, [])) for c in range(len(classes))]\n",
    "    class_weights = get_class_balanced_weights(class_counts, beta=cb_beta).to(DEVICE) if use_cb_loss else None\n",
    "\n",
    "    for ep in range(1, epochs+1):\n",
    "        img_enc.train(); txt_enc.train()\n",
    "        total = 0.0\n",
    "        for img, pos_label, neg_img, neg_cls in loader:\n",
    "            img = img.to(DEVICE); pos_label = pos_label.to(DEVICE)\n",
    "            img_z = F.normalize(img_enc(img), dim=-1)\n",
    "            txt_z = txt_enc(pos_label)\n",
    "\n",
    "            loss = contrastive_loss(img_z, txt_z, tau=0.07,\n",
    "                                    class_weights=class_weights,\n",
    "                                    labels=pos_label if use_cb_loss else None)\n",
    "\n",
    "            # extra hard-negative push\n",
    "            neg_img = neg_img.to(DEVICE)\n",
    "            with torch.no_grad():\n",
    "                neg_z = F.normalize(img_enc(neg_img), dim=-1)\n",
    "            margin = 0.2\n",
    "            neg_push = F.relu((img_z * txt_z).sum(-1) - (neg_z * txt_z).sum(-1) + margin).mean()\n",
    "            loss = loss + 0.2 * neg_push\n",
    "\n",
    "            opt.zero_grad(); loss.backward(); opt.step()\n",
    "            total += loss.item()\n",
    "        print(f\"[Epoch {ep}] loss={total/len(loader):.4f}\")\n",
    "\n",
    "    test_balanced, _ = load_cifar10_subset(split=\"test\", n_per_class=80, resize_to=128, normalize_for_clip=False)\n",
    "    test_loader = DataLoader(test_balanced, batch_size=128, shuffle=False, num_workers=0)\n",
    "    img_enc.eval(); txt_enc.eval()\n",
    "\n",
    "    feats, labels = [], []\n",
    "    with torch.no_grad():\n",
    "        for x, y in test_loader:\n",
    "            x = x.to(DEVICE)\n",
    "            z = F.normalize(img_enc(x), dim=-1).cpu()\n",
    "            feats.append(z); labels.append(y)\n",
    "    img_feats = torch.cat(feats); labels = torch.cat(labels)\n",
    "    class_ids = torch.arange(len(classes), device=DEVICE)\n",
    "    txt_feats = F.normalize(txt_enc(class_ids).detach(), dim=-1).cpu()\n",
    "\n",
    "    sim = (txt_feats @ img_feats.T).numpy()\n",
    "    lab = np.equal(np.arange(len(classes))[:,None], labels[None,:].numpy())\n",
    "    return {\n",
    "        \"Recall@1\": recall_at_k(sim, lab, K=1),\n",
    "        \"Recall@10\": recall_at_k(sim, lab, K=10),\n",
    "        \"NDCG@10\": ndcg_at_k(sim, lab, K=10),\n",
    "    }\n"
   ]
  },
  {
   "cell_type": "markdown",
   "id": "6273e841",
   "metadata": {},
   "source": [
    "调参优先级：dim > margin > weight_decay > hard_negative_prob > pop_alpha"
   ]
  },
  {
   "cell_type": "code",
   "execution_count": 20,
   "id": "3ecac2b2",
   "metadata": {},
   "outputs": [
    {
     "name": "stdout",
     "output_type": "stream",
     "text": [
      "== CLIP ==\n"
     ]
    },
    {
     "name": "stderr",
     "output_type": "stream",
     "text": [
      "100%|███████████████████████████████████████| 338M/338M [02:01<00:00, 2.90MiB/s]\n"
     ]
    },
    {
     "name": "stdout",
     "output_type": "stream",
     "text": [
      "Approx keep fractions per class: {8: 1.0, 7: 0.3700000000000001, 5: 0.18100000000000005, 9: 0.12430000000000002, 2: 0.10729000000000001, 3: 0.102187, 6: 0.10065610000000001, 1: 0.10019683, 4: 0.10005904900000001, 0: 0.10001771470000001}\n",
      "Approx keep fractions per class: {8: 1.0, 7: 0.3700000000000001, 5: 0.18100000000000005, 9: 0.12430000000000002, 2: 0.10729000000000001, 3: 0.102187, 6: 0.10065610000000001, 1: 0.10019683, 4: 0.10005904900000001, 0: 0.10001771470000001}\n",
      "\n",
      "== Dual-Tower (Imbalanced training) ==\n",
      "Approx keep fractions per class: {8: 1.0, 7: 0.3700000000000001, 5: 0.18100000000000005, 9: 0.12430000000000002, 2: 0.10729000000000001, 3: 0.102187, 6: 0.10065610000000001, 1: 0.10019683, 4: 0.10005904900000001, 0: 0.10001771470000001}\n",
      "[Epoch 1] loss=5.6857\n",
      "[Epoch 2] loss=5.0280\n",
      "[Epoch 3] loss=4.5623\n",
      "Approx keep fractions per class: {8: 1.0, 7: 0.3700000000000001, 5: 0.18100000000000005, 9: 0.12430000000000002, 2: 0.10729000000000001, 3: 0.102187, 6: 0.10065610000000001, 1: 0.10019683, 4: 0.10005904900000001, 0: 0.10001771470000001}\n",
      "[Epoch 1] loss=3.2485\n",
      "[Epoch 2] loss=3.0072\n",
      "[Epoch 3] loss=2.6321\n",
      "Approx keep fractions per class: {8: 1.0, 7: 0.3700000000000001, 5: 0.18100000000000005, 9: 0.12430000000000002, 2: 0.10729000000000001, 3: 0.102187, 6: 0.10065610000000001, 1: 0.10019683, 4: 0.10005904900000001, 0: 0.10001771470000001}\n",
      "[Epoch 1] loss=2.8785\n",
      "[Epoch 2] loss=2.6129\n",
      "[Epoch 3] loss=2.3568\n"
     ]
    },
    {
     "data": {
      "text/plain": [
       "{'CLIP_one_prompt_bal': {'Recall@1': 1.0,\n",
       "  'Recall@10': 1.0,\n",
       "  'NDCG@10': 0.9950420626208828},\n",
       " 'CLIP_prompt_ens_bal': {'Recall@1': 1.0,\n",
       "  'Recall@10': 1.0,\n",
       "  'NDCG@10': 0.9977015370297101},\n",
       " 'CLIP_one_prompt_imbal': {'Recall@1': 1.0,\n",
       "  'Recall@10': 1.0,\n",
       "  'NDCG@10': 0.97238326959747},\n",
       " 'CLIP_prompt_ens_imbal': {'Recall@1': 1.0,\n",
       "  'Recall@10': 1.0,\n",
       "  'NDCG@10': 0.9804665989872398},\n",
       " 'Dual_no_CB': {'Recall@1': 0.0,\n",
       "  'Recall@10': 0.7,\n",
       "  'NDCG@10': 0.35527380622490995},\n",
       " 'Dual_CB_0.99': {'Recall@1': 0.4,\n",
       "  'Recall@10': 0.6,\n",
       "  'NDCG@10': 0.42985972859989313},\n",
       " 'Dual_CB_0.999': {'Recall@1': 0.5,\n",
       "  'Recall@10': 1.0,\n",
       "  'NDCG@10': 0.6457512756622397}}"
      ]
     },
     "execution_count": 20,
     "metadata": {},
     "output_type": "execute_result"
    }
   ],
   "source": [
    "\n",
    "results = {}\n",
    "try:\n",
    "    if CLIP_AVAILABLE:\n",
    "        print(\"== CLIP ==\")\n",
    "        results[\"CLIP_one_prompt_bal\"]  = run_clip_pipeline(use_templates=False, imbalance=False)\n",
    "        results[\"CLIP_prompt_ens_bal\"]  = run_clip_pipeline(use_templates=True,  imbalance=False)\n",
    "        results[\"CLIP_one_prompt_imbal\"]= run_clip_pipeline(use_templates=False, imbalance=True)\n",
    "        results[\"CLIP_prompt_ens_imbal\"]= run_clip_pipeline(use_templates=True,  imbalance=True)\n",
    "except Exception as e:\n",
    "    print(\"Skip CLIP:\", e)\n",
    "\n",
    "print(\"\\n== Dual-Tower (Imbalanced training) ==\")\n",
    "results[\"Dual_no_CB\"]     = run_dualtower_with_imbalance(use_cb_loss=False)\n",
    "results[\"Dual_CB_0.99\"]   = run_dualtower_with_imbalance(use_cb_loss=True, cb_beta=0.99)\n",
    "results[\"Dual_CB_0.999\"]  = run_dualtower_with_imbalance(use_cb_loss=True, cb_beta=0.999)\n",
    "\n",
    "results\n"
   ]
  },
  {
   "cell_type": "code",
   "execution_count": 21,
   "id": "5875fb37",
   "metadata": {},
   "outputs": [
    {
     "data": {
      "image/png": "[encoded data removed]",
      "text/plain": [
       "<Figure size 800x400 with 1 Axes>"
      ]
     },
     "metadata": {},
     "output_type": "display_data"
    },
    {
     "data": {
      "image/png": "[encoded data removed]",
      "text/plain": [
       "<Figure size 800x400 with 1 Axes>"
      ]
     },
     "metadata": {},
     "output_type": "display_data"
    },
    {
     "data": {
      "image/png": "[encoded data removed]",
      "text/plain": [
       "<Figure size 800x400 with 1 Axes>"
      ]
     },
     "metadata": {},
     "output_type": "display_data"
    }
   ],
   "source": [
    "\n",
    "keys = [k for k in results.keys() if k.startswith(\"Dual\")]\n",
    "metrics = [\"Recall@1\", \"Recall@10\", \"NDCG@10\"]\n",
    "for m in metrics:\n",
    "    plt.figure(figsize=(8,4))\n",
    "    vals = [results[k][m] for k in keys]\n",
    "    plt.bar(range(len(keys)), vals)\n",
    "    plt.xticks(range(len(keys)), keys, rotation=20, ha='right')\n",
    "    plt.ylabel(m); plt.title(f\"Dual-Tower Ablation on {m}\")\n",
    "    plt.tight_layout(); plt.show()\n"
   ]
  },
  {
   "cell_type": "markdown",
   "id": "5fff7c6b",
   "metadata": {},
   "source": [
    "## 实验结果分析\n",
    "\n",
    "### 1. CLIP 部分（Prompt Engineering + 平衡 / 不平衡数据）\n",
    "| 模型 | Recall@1 | Recall@10 | NDCG@10 | 解读 |\n",
    "|------|----------|-----------|---------|------|\n",
    "| CLIP_one_prompt_bal | 1.0 | 1.0 | 0.995 | **完美表现**，说明在平衡数据集 + 单一提示词下，CLIP 能准确匹配 |\n",
    "| CLIP_prompt_ens_bal | 1.0 | 1.0 | 0.998 | 同样是完美表现，多提示词集成（prompt ensemble）略微提升 NDCG |\n",
    "| CLIP_one_prompt_imbal | 1.0 | 1.0 | 0.972 | 即使数据极度不平衡，CLIP 依然 Recall 全对，但 NDCG 略降，说明排名质量受影响 |\n",
    "| CLIP_prompt_ens_imbal | 1.0 | 1.0 | 0.980 | 多提示词在不平衡场景下稍微缓解排名下降问题 |\n",
    "\n",
    "**结论**：  \n",
    "- CLIP 对于 Recall 几乎不受类别不平衡影响（可能因为它是预训练模型，泛化很强）。  \n",
    "- 不平衡主要影响排名质量（NDCG）。  \n",
    "- Prompt Ensemble 能在不平衡场景中带来轻微收益。  \n",
    "\n",
    "---\n",
    "\n",
    "### 2. 自训练双塔（Dual-Tower）部分\n",
    "| 模型 | Recall@1 | Recall@10 | NDCG@10 | 解读 |\n",
    "|------|----------|-----------|---------|------|\n",
    "| Dual_no_CB | 0.0 | 0.7 | 0.355 | 在不平衡数据下，**几乎找不到 Top1**，Top10 也只有 70% 命中 |\n",
    "| Dual_CB_0.99 | 0.4 | 0.6 | 0.430 | 加入 Class-balanced Loss 后，Top1 提升到 40%，但 Top10 反而下降（可能是权重太低导致高频类性能下降） |\n",
    "| Dual_CB_0.999 | 0.5 | 1.0 | 0.646 | 提高 β 接近 1 后，Top1 提升到 50%，Top10 直接满分，NDCG 提升显著 |\n",
    "\n",
    "**结论**：  \n",
    "- 不加 Class-balanced Loss，双塔模型在长尾场景表现非常差，Top1 全丢。  \n",
    "- β=0.99 权重调节不够强，对长尾类提升有限。  \n",
    "- β=0.999 给长尾类足够高的权重，显著提升 Recall 和 NDCG。  \n",
    "\n",
    "---\n",
    "\n",
    "### 3. 整体对比\n",
    "- **CLIP** 几乎不受长尾影响，主要依赖大规模预训练 + Prompt 工程，属于即插即用方案。  \n",
    "- **自训练双塔** 在长尾分布下必须用 Class-balanced Loss 或采样策略，否则召回率会崩。  \n",
    "- β 值越接近 1，对小样本类的提升越大，但要注意别过拟合小类。  \n"
   ]
  }
 ],
 "metadata": {
  "kernelspec": {
   "display_name": "Python 3",
   "language": "python",
   "name": "python3"
  },
  "language_info": {
   "codemirror_mode": {
    "name": "ipython",
    "version": 3
   },
   "file_extension": ".py",
   "mimetype": "text/x-python",
   "name": "python",
   "nbconvert_exporter": "python",
   "pygments_lexer": "ipython3",
   "version": "3.13.6"
  }
 },
 "nbformat": 4,
 "nbformat_minor": 5
}
