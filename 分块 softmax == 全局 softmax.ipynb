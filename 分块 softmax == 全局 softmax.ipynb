{
 "cells": [
  {
   "cell_type": "code",
   "execution_count": 1,
   "id": "81cde083",
   "metadata": {},
   "outputs": [
    {
     "name": "stdout",
     "output_type": "stream",
     "text": [
      "全局 softmax:\n",
      "[0.08714432 0.23688282 0.0320586  0.64391426]\n",
      "\n",
      "分块 softmax (每块 2 个):\n",
      "[0.08714432 0.23688282 0.0320586  0.64391426]\n"
     ]
    }
   ],
   "source": [
    "import numpy as np\n",
    "\n",
    "def global_softmax(x):\n",
    "    \"\"\"一次性算 softmax（数值稳定版本）\"\"\"\n",
    "    M = np.max(x)\n",
    "    exps = np.exp(x - M)\n",
    "    return exps / np.sum(exps)\n",
    "\n",
    "def chunk_softmax(x, chunk_size=2):\n",
    "    \"\"\"分块计算 softmax\"\"\"\n",
    "    M = -np.inf   # 当前全局最大值\n",
    "    S = 0.0       # 当前全局指数和\n",
    "\n",
    "    # 先保存每个元素的值，等会用全局 M 归一化\n",
    "    chunks = []\n",
    "    \n",
    "    for i in range(0, len(x), chunk_size):\n",
    "        block = x[i:i+chunk_size]\n",
    "        m = np.max(block)  # 当前块最大值\n",
    "        s = np.sum(np.exp(block - m))  # 当前块指数和\n",
    "        chunks.append((block, m, s))\n",
    "\n",
    "        if m <= M:\n",
    "            # 旧最大值更大 → 换基准\n",
    "            S = S + s * np.exp(m - M)\n",
    "        else:\n",
    "            # 新最大值更大 → 旧结果要缩放\n",
    "            S = S * np.exp(M - m) + s\n",
    "            M = m  # 更新全局最大值\n",
    "    \n",
    "    # 现在有了全局 M 和 S，计算 softmax\n",
    "    softmax_vals = []\n",
    "    for block, m, s in chunks:\n",
    "        softmax_vals.extend(np.exp(block - M) / S)\n",
    "\n",
    "    return np.array(softmax_vals)\n",
    "\n",
    "\n",
    "# ====== 测试 ======\n",
    "x = np.array([1000, 1001, 999, 1002], dtype=np.float64)\n",
    "\n",
    "print(\"全局 softmax:\")\n",
    "print(global_softmax(x))\n",
    "\n",
    "print(\"\\n分块 softmax (每块 2 个):\")\n",
    "print(chunk_softmax(x, chunk_size=2))\n"
   ]
  }
 ],
 "metadata": {
  "kernelspec": {
   "display_name": "base",
   "language": "python",
   "name": "python3"
  },
  "language_info": {
   "codemirror_mode": {
    "name": "ipython",
    "version": 3
   },
   "file_extension": ".py",
   "mimetype": "text/x-python",
   "name": "python",
   "nbconvert_exporter": "python",
   "pygments_lexer": "ipython3",
   "version": "3.12.7"
  }
 },
 "nbformat": 4,
 "nbformat_minor": 5
}
